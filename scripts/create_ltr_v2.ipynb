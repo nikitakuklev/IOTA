{
 "cells": [
  {
   "cell_type": "code",
   "execution_count": 1,
   "metadata": {},
   "outputs": [],
   "source": [
    "import subprocess, os, time\n",
    "import numpy as np"
   ]
  },
  {
   "cell_type": "code",
   "execution_count": null,
   "metadata": {},
   "outputs": [],
   "source": [
    "def make_madx_lattice(oq, single=False, num=9):\n",
    "    currents = np.array([0.05721, 0.09124, 0.14642, 0.23386, 0.36538, 0.5449, 0.751935, 0.9288, 1])\n",
    "    if single:\n",
    "        ocps = np.zeros(9)\n",
    "        ocps[num-1] = oq\n",
    "        currents_actual = currents*ocps\n",
    "    else:\n",
    "        currents_actual = currents*oq\n",
    "#     else:\n",
    "#         ocps = np.ones(9)*oq*currents\n",
    "    with open('include/octupoles.madx','w') as f:\n",
    "        f.write('! octupoles\\n') \n",
    "        #f.write('! {}\\n'.format(currents))\n",
    "        #!kG/cm3 -> 1/cm4 -> 1/m4\n",
    "        f.write('oqK = (1.4*0.5/HR)*100*100*100*100;\\n')\n",
    "        f.write('oqI = {};\\n'.format(oq))\n",
    "        #f.write('koq09 := oqI*oqK;\\n')\n",
    "        for i in range(9):            \n",
    "            f.write('koq{:02d} := {}*oqK; !{}\\n'.format(i+1,currents_actual[i],currents[i]))\n",
    "            \n",
    "#     !koq01 := koq09*0.05721;\n",
    "#     !koq02 := koq09*0.09124;\n",
    "#     !koq03 := koq09*0.14642;\n",
    "#     !koq04 := koq09*0.23386;\n",
    "#     !koq05 := koq09*0.36538;\n",
    "#     !koq06 := koq09*0.5449;\n",
    "#     !koq07 := koq09*0.751935;\n",
    "#     !koq08 := koq09*0.9288;"
   ]
  },
  {
   "cell_type": "code",
   "execution_count": 2,
   "metadata": {},
   "outputs": [],
   "source": [
    "def make_madx_lattice(oq, single=False, num=9):\n",
    "    with open('../include/fields_octupoles.madx','w') as f:\n",
    "        f.write('! octupoles\\n') \n",
    "        #f.write('! {}\\n'.format(currents))\n",
    "        #!kG/cm3 -> 1/cm4 -> 1/m4\n",
    "        f.write('oqK = {};\\n'.format(oq))"
   ]
  },
  {
   "cell_type": "code",
   "execution_count": 18,
   "metadata": {},
   "outputs": [
    {
     "data": {
      "text/plain": [
       "'C:\\\\GoogleDrive\\\\ACC\\\\OCP\\\\Sims\\\\iota_v852_1NL\\\\scripts'"
      ]
     },
     "execution_count": 18,
     "metadata": {},
     "output_type": "execute_result"
    }
   ],
   "source": [
    "os.getcwd()"
   ]
  },
  {
   "cell_type": "code",
   "execution_count": 22,
   "metadata": {},
   "outputs": [
    {
     "name": "stdout",
     "output_type": "stream",
     "text": [
      "[0, 0.1, 1, 2, 5, 10, 50, 100, 500, 1000, 5000]\n",
      "00000\n",
      "C:\\GoogleDrive\\ACC\\OCP\\Sims\\iota_v852_1NL\\\n",
      "00001\n",
      "C:\\GoogleDrive\\ACC\\OCP\\Sims\\iota_v852_1NL\\\n",
      "00010\n",
      "C:\\GoogleDrive\\ACC\\OCP\\Sims\\iota_v852_1NL\\\n",
      "00020\n",
      "C:\\GoogleDrive\\ACC\\OCP\\Sims\\iota_v852_1NL\\\n",
      "00050\n",
      "C:\\GoogleDrive\\ACC\\OCP\\Sims\\iota_v852_1NL\\\n",
      "00100\n",
      "C:\\GoogleDrive\\ACC\\OCP\\Sims\\iota_v852_1NL\\\n",
      "00500\n",
      "C:\\GoogleDrive\\ACC\\OCP\\Sims\\iota_v852_1NL\\\n",
      "01000\n",
      "C:\\GoogleDrive\\ACC\\OCP\\Sims\\iota_v852_1NL\\\n",
      "05000\n",
      "C:\\GoogleDrive\\ACC\\OCP\\Sims\\iota_v852_1NL\\\n",
      "10000\n",
      "C:\\GoogleDrive\\ACC\\OCP\\Sims\\iota_v852_1NL\\\n",
      "50000\n",
      "C:\\GoogleDrive\\ACC\\OCP\\Sims\\iota_v852_1NL\\\n"
     ]
    }
   ],
   "source": [
    "#currents = [5000, 2000, 1500, 1000, 750, 500, 300, 200, 150, 100, 75, 50, 20, 10, 5, 2, 1, 0.1, 0][::-1]\n",
    "currents = [5000, 1000, 500, 100, 50, 10, 5, 2, 1, 0.1, 0][::-1]\n",
    "#currents = [0][::-1]\n",
    "#currents = [500, 300, 200, 150, 100, 75, 50, 20, 10, 5, 4, 3, 2, 1, 0.5, 0.1, 0][::-1]\n",
    "#currents = [100, 75, 50, 20, 10, 7.5, 5, 4, 3, 2, 1, 0.8, 0.6, 0.5, 0.2, 0.1, 0][::-1]\n",
    "#currents = [5, 4, 2, 1, 0.5, 0.1, 0][::-1]\n",
    "name_base = 'v852_{}_all_noE_6_12_1.ltr'\n",
    "#currents.extend([-v for v in currents[:-1]])\n",
    "print(currents)\n",
    "for cr in currents:\n",
    "    name = '{:05d}'.format(int(cr*10)) if cr >= 0 else 'm{:05d}'.format(int(-cr*10))\n",
    "    print(name)\n",
    "    \n",
    "    #make_madx_lattice(cr, single=True, num=9)\n",
    "    make_madx_lattice(cr)\n",
    "    time.sleep(0.001)\n",
    "    #original_dir = os.getcwd()\n",
    "    #os.chdir(\"../\")\n",
    "    #print(os.getcwd())\n",
    "    cwd = os.path.abspath('../')\n",
    "    print(cwd)\n",
    "    try:\n",
    "        resp = subprocess.check_output([os.path.abspath('..\\..\\madx-win64-gnu.exe'),\n",
    "                                        os.path.abspath('../util_madx2ltr_6_12_1.madx')],\n",
    "                                        cwd=cwd)  \n",
    "    except subprocess.CalledProcessError as ex:\n",
    "        print(ex.cmd)\n",
    "        print(ex.output)\n",
    "    if 'MAD-X finished normally' not in resp[-100:].decode() or len(resp) < 500:\n",
    "        print(resp.decode())\n",
    "        raise Exception\n",
    "    #os.chdir(original_dir)\n",
    "    #print(os.getcwd())\n",
    "    try:\n",
    "        resp = subprocess.check_output(['C:/Users/boss/Downloads/strawberry-perl-portable/perl/bin/perl.exe', \n",
    "                                    os.path.abspath('../scripts/madx2ltr_mod_newdefaults.pl'),\n",
    "                                    os.path.abspath('../out/out.lattice'),\n",
    "                                    os.path.abspath('../out/esave'),\n",
    "                                    os.path.abspath('../out/out.strong'),\n",
    "                                    name_base.format(name)])\n",
    "                                    #stderr=subprocess.STDOUT)\n",
    "        time.sleep(0.001)\n",
    "    except subprocess.CalledProcessError as ex:\n",
    "        print(ex.cmd)\n",
    "        print(ex.output)\n",
    "    if not 'attached:' in resp[-30:].decode():\n",
    "        print(resp[-100:].decode())\n",
    "        raise Exception\n",
    "    time.sleep(0.001)"
   ]
  },
  {
   "cell_type": "code",
   "execution_count": null,
   "metadata": {},
   "outputs": [],
   "source": [
    "os.path.abspath('../scripts/madx2ltr_mod_newdefaults.pl')"
   ]
  },
  {
   "cell_type": "code",
   "execution_count": null,
   "metadata": {},
   "outputs": [],
   "source": []
  }
 ],
 "metadata": {
  "kernelspec": {
   "display_name": "Python 3",
   "language": "python",
   "name": "python3"
  },
  "language_info": {
   "codemirror_mode": {
    "name": "ipython",
    "version": 3
   },
   "file_extension": ".py",
   "mimetype": "text/x-python",
   "name": "python",
   "nbconvert_exporter": "python",
   "pygments_lexer": "ipython3",
   "version": "3.7.1"
  }
 },
 "nbformat": 4,
 "nbformat_minor": 2
}
